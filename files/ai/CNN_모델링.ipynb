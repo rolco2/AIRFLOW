{
  "nbformat": 4,
  "nbformat_minor": 0,
  "metadata": {
    "colab": {
      "provenance": [],
      "gpuType": "T4"
    },
    "kernelspec": {
      "name": "python3",
      "display_name": "Python 3"
    },
    "language_info": {
      "name": "python"
    },
    "accelerator": "GPU"
  },
  "cells": [
    {
      "cell_type": "code",
      "execution_count": null,
      "metadata": {
        "id": "NBkGgTUIt8UP"
      },
      "outputs": [],
      "source": [
        "#CNN 특징\n",
        "# 1. 합성곱층 : 이미지에 합성곱을 하여 이미지의 특징을 추출  필터를이용하여 특징의 검출이 이뤄 진다.\n",
        "#               import torchnn as nn  ...... nn.Conv2d(3,6,5) # 합성곱층(입력 채널 수, 필터 수, 파일크기)\n",
        "# 2. 풀링층   : 합성곱층 뒤에 주로 배치, 이미지를 축소한다.\n",
        "#               import torchnn as nn ....... nn.MaxPool2d(2,2) # 풀링층: (영역의 크기, 영역의 간격)\n",
        "# 3. 패딩     : 입력 이미지를 둘러 사듯이 픽셀을 배치하는 테크닉\n",
        "#               이미지의 크기가 커진다. 합성곱 및 풀링에 의해 이미지가 작아지므로 이러한 층을 몇 번 거듭하면\n",
        "#               마지막에 1x1 가 되므로 패딩을 실시해 너무 작아지는 이미지를 방지 할 수 있다.\n",
        "# 4. 스트라이드 : 합성곱에서 필터가 이동하는 간격을 스트라이드라고 한다.\n",
        "#                스트라이드가 큰 경우, 필터의 이동 거리가 크기 떄문에 출력 이미지의 크기는 작아진다.\n",
        "# 5. 데이터 확장 : 훈련데이터가 적으면 실용적인 모델이 되지 않는다. 학습에 필요한 데이터를 많이 모을려면 품이 많이 든다.\n",
        "#                  이러한 문제 대책중 하나가 데이터 확장이다.\n",
        "#                  회전, 확대/축소, 상하좌우로 이동, 상하좌우로 반전, 일부 소거\n",
        "# 6. 드롭아웃 : 출력층 이외의 뉴런을 일정 확률로 무작의 소거 하는 테크닉 모델의 범화 성능 향상에 큰 효과가 있다.\n",
        "#               드롭아웃을 도입한 기계학습은 형상이 다른 작은 네트워크의 조합을 이용한 학습이므로\n",
        "#               비교적 쉬우면서 범화 성능 향상에 큰 효과가 있다.\n",
        "#               import torchnn as nn ....... nn.Dropout(p=0.5) # 드롭아웃: (p = 드롭아웃률)"
      ]
    },
    {
      "cell_type": "code",
      "source": [
        "# CNN 구현\n",
        "# DATALOAD의 설정\n",
        "# 데이터 확장을 위해 회전과 크기 조절 및 좌우 반전을 실시한다.\n",
        "# 효율적인 학습이 되도록 입력의 평균 값을 0, 표준 편차를 1로 한다.\n",
        "\n",
        "#1. Dataloder 설정\n",
        "from torchvision.datasets import CIFAR10\n",
        "import torchvision.transforms as transforms\n",
        "from torch.utils.data import DataLoader\n",
        "\n",
        "cifar10_classes = [\"airplane\", \"automobile\",\"bird\", \"cat\", \"deer\", \"dog\", \"frog\",\"horse\", \"ship\", \"truck\"]\n",
        "\n",
        "affine = transforms.RandomAffine((-30, 30), scale=(0.8, 1.2)) # 회전과 크기 조절\n",
        "flip = transforms.RandomHorizontalFlip(p=0.5)                 # 좌우 반전\n",
        "normalize = transforms.Normalize((0.0,0.0,0.0), (1.0,1.0,1.0)) # 평균 값을 0, 표준편차를 1로\n",
        "to_tensor = transforms.ToTensor()\n",
        "#erase =   # ←여기에 코드를 추가 기입\n",
        "\n",
        "\n",
        "transform_train = transforms.Compose([affine, flip, to_tensor, normalize])\n",
        "transform_test  = transforms.Compose([to_tensor, normalize])\n",
        "\n",
        "cifar10_train = CIFAR10(root =\"./data\",\n",
        "                        train = True,\n",
        "                        download = True,\n",
        "                        transform  = transform_train)\n",
        "cifar10_test = CIFAR10(root =\"./data\",\n",
        "                        train = False,\n",
        "                        download = True,\n",
        "                        transform  = transform_test)\n",
        "\n",
        "# Dataloader의 설정\n",
        "batch_size = 64\n",
        "train_loader = DataLoader(cifar10_train, batch_size=batch_size, shuffle =True)\n",
        "test_loader = DataLoader(cifar10_test, batch_size=batch_size, shuffle  = False)"
      ],
      "metadata": {
        "colab": {
          "base_uri": "https://localhost:8080/"
        },
        "id": "7EjloRpiuHb7",
        "outputId": "102e141a-273d-403e-bea5-fa289b672a8f"
      },
      "execution_count": null,
      "outputs": [
        {
          "output_type": "stream",
          "name": "stdout",
          "text": [
            "Downloading https://www.cs.toronto.edu/~kriz/cifar-10-python.tar.gz to ./data/cifar-10-python.tar.gz\n"
          ]
        },
        {
          "output_type": "stream",
          "name": "stderr",
          "text": [
            "100%|██████████| 170498071/170498071 [00:01<00:00, 93132639.40it/s] \n"
          ]
        },
        {
          "output_type": "stream",
          "name": "stdout",
          "text": [
            "Extracting ./data/cifar-10-python.tar.gz to ./data\n",
            "Files already downloaded and verified\n"
          ]
        }
      ]
    },
    {
      "cell_type": "code",
      "source": [
        "# 2. Cnn 모델 구축\n",
        "import torch.nn as nn\n",
        "\n",
        "class Net(nn.Module):\n",
        "    def __init__(self):\n",
        "        super().__init__()\n",
        "        self.conv1 = nn.Conv2d(3, 8, 5)   # 합성곱층: (입력 채널 수, 필터 수, 필터 크기)\n",
        "        self.relu = nn.ReLU()             # ReLU 입력 값이 음수인 경우 0으로 출력하며, 0보다 큰 값은 자기 자신을 출력\n",
        "        self.pool = nn.MaxPool2d(2, 2)    # 풀링층: (영역의 크기, 영역의 간격)\n",
        "        self.conv2 = nn.Conv2d(8, 16, 5)\n",
        "        self.fc1 = nn.Linear(16*5*5, 256)  # 전결합층\n",
        "        self.dropout = nn.Dropout(p=0.5)   # 드롭아웃:(p=드롭아웃률)\n",
        "        self.fc2 = nn.Linear(256, 10)\n",
        "\n",
        "    def forward(self, x):\n",
        "        # ------- 이하에 코드를 작성한다 -------\n",
        "        x = self.relu(self.conv1(x))\n",
        "        x = self.pool(x)\n",
        "        x = self.relu(self.conv2(x))\n",
        "        x = self.pool(x)\n",
        "        x = x.view(-1, 16*5*5)\n",
        "        x = self.relu(self.fc1(x))\n",
        "        x = self.dropout(x)\n",
        "        x = self.fc2(x)\n",
        "\n",
        "        # ------- 여기까지 -------\n",
        "        return x\n",
        "\n",
        "net = Net()\n",
        "net.cuda()  # GPU 대응\n",
        "print(net)"
      ],
      "metadata": {
        "colab": {
          "base_uri": "https://localhost:8080/"
        },
        "id": "AMru4-Isul_Z",
        "outputId": "a4e12603-2b20-4c76-c3ed-48ed7d10efdb"
      },
      "execution_count": null,
      "outputs": [
        {
          "output_type": "stream",
          "name": "stdout",
          "text": [
            "Net(\n",
            "  (conv1): Conv2d(3, 8, kernel_size=(5, 5), stride=(1, 1))\n",
            "  (relu): ReLU()\n",
            "  (pool): MaxPool2d(kernel_size=2, stride=2, padding=0, dilation=1, ceil_mode=False)\n",
            "  (conv2): Conv2d(8, 16, kernel_size=(5, 5), stride=(1, 1))\n",
            "  (fc1): Linear(in_features=400, out_features=256, bias=True)\n",
            "  (dropout): Dropout(p=0.5, inplace=False)\n",
            "  (fc2): Linear(in_features=256, out_features=10, bias=True)\n",
            ")\n"
          ]
        }
      ]
    },
    {
      "cell_type": "code",
      "source": [
        "# 3. CNN 모델의 훈련\n",
        "from torch import optim\n",
        "\n",
        "# 교차 엔트로피 오차 함수\n",
        "loss_fnc = nn.CrossEntropyLoss()\n",
        "\n",
        "# 최적화 알고리즘\n",
        "optimizer = optim.Adam(net.parameters())\n",
        "\n",
        "# 손실의 로그\n",
        "record_loss_train = []\n",
        "record_loss_test = []\n",
        "\n",
        "# 20 에포크 학습\n",
        "for i in range(20):  # 20번 반복하며 학습\n",
        "    net.train()      # 훈련 모드\n",
        "    loss_train = 0   # 훈련 손실 초기화\n",
        "\n",
        "    # 미니배치 단위로 학습\n",
        "    for j, (x, t) in enumerate(train_loader):  # train_loader에서 미니배치 데이터 추출\n",
        "        x, t = x.cuda(), t.cuda()              # GPU 사용 시 데이터를 GPU로 변환\n",
        "        # 모델 예측\n",
        "        y = net(x)                             # 모델을 상용하여 입력 데이터에 대한 예측 수행\n",
        "        loss = loss_fnc(y, t)                  # 손실계산\n",
        "        loss_train += loss.item()              # 훈련 손실 누적\n",
        "        optimizer.zero_grad()                  # 기울기 초기화\n",
        "        loss.backward()                        # 역전파 수행\n",
        "        optimizer.step()                       # 가중치 업데이트\n",
        "\n",
        "    loss_train /= j+1                          # 평균 훈련 손실 계산\n",
        "    record_loss_train.append(loss_train)       # 훈련 손실 기록\n",
        "\n",
        "    net.eval()         # 평가 모드\n",
        "    loss_test = 0      # 평가 손실 초기화\n",
        "\n",
        "    # 미니배치 단위로 평가\n",
        "    for j, (x, t) in enumerate(test_loader):  # 미니배치 (x, t)를 꺼낸다\n",
        "        x, t = x.cuda(), t.cuda()             # GPU 사용 시 데이터 변환\n",
        "        y = net(x)                            # 모델 예측\n",
        "        loss = loss_fnc(y, t)                 # 손실 계산\n",
        "        loss_test += loss.item()              # 평가 손실 누적\n",
        "\n",
        "    # 평균 평가 손실 계산\n",
        "    loss_test /= j+1\n",
        "\n",
        "    # 평가 손실 기록\n",
        "    record_loss_test.append(loss_test)\n",
        "\n",
        "    # 1 에포크마다 훈련 및 평가 손실 출력\n",
        "    if i%1 == 0:\n",
        "        print(\"Epoch:\", i, \"Loss_Train:\", loss_train, \"Loss_Test:\", loss_test)"
      ],
      "metadata": {
        "colab": {
          "base_uri": "https://localhost:8080/"
        },
        "id": "1wMPxYwywm-g",
        "outputId": "d4d76f4e-475b-409b-b764-3c24be8e2691"
      },
      "execution_count": null,
      "outputs": [
        {
          "output_type": "stream",
          "name": "stdout",
          "text": [
            "Epoch: 0 Loss_Train: 1.8320864167664668 Loss_Test: 1.6235463285142449\n",
            "Epoch: 1 Loss_Train: 1.6168678354119401 Loss_Test: 1.4483961269354364\n",
            "Epoch: 2 Loss_Train: 1.551928710449687 Loss_Test: 1.388066742070921\n",
            "Epoch: 3 Loss_Train: 1.500686214860443 Loss_Test: 1.3488168906254374\n",
            "Epoch: 4 Loss_Train: 1.4626247655705114 Loss_Test: 1.3163372916021165\n",
            "Epoch: 5 Loss_Train: 1.4355748570178781 Loss_Test: 1.2627670909189115\n",
            "Epoch: 6 Loss_Train: 1.4069119411356308 Loss_Test: 1.266946204528687\n",
            "Epoch: 7 Loss_Train: 1.3822250379930676 Loss_Test: 1.2104748608959708\n",
            "Epoch: 8 Loss_Train: 1.366802124035023 Loss_Test: 1.1991778198321155\n",
            "Epoch: 9 Loss_Train: 1.3527017331794096 Loss_Test: 1.1822981659773808\n",
            "Epoch: 10 Loss_Train: 1.3354013514945575 Loss_Test: 1.1556885637295473\n",
            "Epoch: 11 Loss_Train: 1.3265673521229677 Loss_Test: 1.1681842253466321\n",
            "Epoch: 12 Loss_Train: 1.3159685865844912 Loss_Test: 1.1585855214459122\n",
            "Epoch: 13 Loss_Train: 1.3076159002835794 Loss_Test: 1.1175266709297327\n",
            "Epoch: 14 Loss_Train: 1.2987023040919048 Loss_Test: 1.1340635946601818\n",
            "Epoch: 15 Loss_Train: 1.2933332491713716 Loss_Test: 1.12960322457514\n",
            "Epoch: 16 Loss_Train: 1.286853867647288 Loss_Test: 1.1258533217345075\n",
            "Epoch: 17 Loss_Train: 1.2818656710102736 Loss_Test: 1.101084013653409\n",
            "Epoch: 18 Loss_Train: 1.2736058960028012 Loss_Test: 1.1133539900658236\n",
            "Epoch: 19 Loss_Train: 1.272605781893596 Loss_Test: 1.0807484263067793\n"
          ]
        }
      ]
    },
    {
      "cell_type": "code",
      "source": [
        "# 4 오차 추이\n",
        "import matplotlib.pyplot as plt\n",
        "\n",
        "plt.plot(range(len(record_loss_train)), record_loss_train, label=\"Train\")\n",
        "plt.plot(range(len(record_loss_test)), record_loss_test, label=\"Test\")\n",
        "plt.legend()\n",
        "\n",
        "plt.xlabel(\"Epochs\")\n",
        "plt.ylabel(\"Error\")\n",
        "plt.show()"
      ],
      "metadata": {
        "id": "zpftIZnh1UPG"
      },
      "execution_count": null,
      "outputs": []
    },
    {
      "cell_type": "code",
      "source": [
        "# 6 정답률의 계산\n",
        "correct = 0\n",
        "total = 0\n",
        "net.eval()  # 평가 모드\n",
        "for i, (x, t) in enumerate(test_loader):\n",
        "    x, t = x.cuda(), t.cuda()  # GPU 대응\n",
        "    y = net(x)\n",
        "    correct += (y.argmax(1) == t).sum().item()\n",
        "    total += len(x)\n",
        "print(\"정답률:\", str(correct/total*100) + \"%\")"
      ],
      "metadata": {
        "colab": {
          "base_uri": "https://localhost:8080/",
          "height": 219
        },
        "id": "czlg6w7j1vHe",
        "outputId": "188ae639-b385-4d44-9463-78a602ea1cf6"
      },
      "execution_count": null,
      "outputs": [
        {
          "output_type": "error",
          "ename": "NameError",
          "evalue": "name 'net' is not defined",
          "traceback": [
            "\u001b[0;31m---------------------------------------------------------------------------\u001b[0m",
            "\u001b[0;31mNameError\u001b[0m                                 Traceback (most recent call last)",
            "\u001b[0;32m<ipython-input-1-b35ced84f68a>\u001b[0m in \u001b[0;36m<cell line: 4>\u001b[0;34m()\u001b[0m\n\u001b[1;32m      2\u001b[0m \u001b[0mcorrect\u001b[0m \u001b[0;34m=\u001b[0m \u001b[0;36m0\u001b[0m\u001b[0;34m\u001b[0m\u001b[0;34m\u001b[0m\u001b[0m\n\u001b[1;32m      3\u001b[0m \u001b[0mtotal\u001b[0m \u001b[0;34m=\u001b[0m \u001b[0;36m0\u001b[0m\u001b[0;34m\u001b[0m\u001b[0;34m\u001b[0m\u001b[0m\n\u001b[0;32m----> 4\u001b[0;31m \u001b[0mnet\u001b[0m\u001b[0;34m.\u001b[0m\u001b[0meval\u001b[0m\u001b[0;34m(\u001b[0m\u001b[0;34m)\u001b[0m  \u001b[0;31m# 평가 모드\u001b[0m\u001b[0;34m\u001b[0m\u001b[0;34m\u001b[0m\u001b[0m\n\u001b[0m\u001b[1;32m      5\u001b[0m \u001b[0;32mfor\u001b[0m \u001b[0mi\u001b[0m\u001b[0;34m,\u001b[0m \u001b[0;34m(\u001b[0m\u001b[0mx\u001b[0m\u001b[0;34m,\u001b[0m \u001b[0mt\u001b[0m\u001b[0;34m)\u001b[0m \u001b[0;32min\u001b[0m \u001b[0menumerate\u001b[0m\u001b[0;34m(\u001b[0m\u001b[0mtest_loader\u001b[0m\u001b[0;34m)\u001b[0m\u001b[0;34m:\u001b[0m\u001b[0;34m\u001b[0m\u001b[0;34m\u001b[0m\u001b[0m\n\u001b[1;32m      6\u001b[0m     \u001b[0mx\u001b[0m\u001b[0;34m,\u001b[0m \u001b[0mt\u001b[0m \u001b[0;34m=\u001b[0m \u001b[0mx\u001b[0m\u001b[0;34m.\u001b[0m\u001b[0mcuda\u001b[0m\u001b[0;34m(\u001b[0m\u001b[0;34m)\u001b[0m\u001b[0;34m,\u001b[0m \u001b[0mt\u001b[0m\u001b[0;34m.\u001b[0m\u001b[0mcuda\u001b[0m\u001b[0;34m(\u001b[0m\u001b[0;34m)\u001b[0m  \u001b[0;31m# GPU 대응\u001b[0m\u001b[0;34m\u001b[0m\u001b[0;34m\u001b[0m\u001b[0m\n",
            "\u001b[0;31mNameError\u001b[0m: name 'net' is not defined"
          ]
        }
      ]
    },
    {
      "cell_type": "code",
      "source": [
        "# 7 훈련한 모델을 사용한 예측\n",
        "\n",
        "cifar10_loader = DataLoader(cifar10_test, batch_size=1, shuffle=True)\n",
        "dataiter = iter(cifar10_loader)\n",
        "images, labels = next(dataiter)  # 샘플을 1개만 꺼낸다\n",
        "\n",
        "plt.imshow(images[0].permute(1, 2, 0))  # 채널을 가장 뒤로\n",
        "plt.tick_params(labelbottom=False, labelleft=False, bottom=False, left=False)  # 라벨과 메모리를 비표시로\n",
        "plt.show()\n",
        "\n",
        "net.eval()  # 평가 모드\n",
        "x, t = images.cuda(), labels.cuda()  # GPU 대응\n",
        "y = net(x)\n",
        "print(\"정답:\", cifar10_classes[labels[0]],\n",
        "      \"예측 결과:\", cifar10_classes[y.argmax().item()])"
      ],
      "metadata": {
        "colab": {
          "base_uri": "https://localhost:8080/",
          "height": 424
        },
        "id": "nzuzDslz2cbq",
        "outputId": "9ab89883-df7c-4f89-d19c-fd7811459b30"
      },
      "execution_count": null,
      "outputs": [
        {
          "output_type": "display_data",
          "data": {
            "text/plain": [
              "<Figure size 640x480 with 1 Axes>"
            ],
            "image/png": "[encoded data removed]"
          },
          "metadata": {}
        },
        {
          "output_type": "stream",
          "name": "stdout",
          "text": [
            "정답: truck 예측 결과: truck\n"
          ]
        }
      ]
    },
    {
      "cell_type": "code",
      "source": [
        "# CNNㅔ 필요한 합성곱층 및 풀링층은 PyTorch의 nn 모듈을 사용해 간단하게 모델에 도입할 수 있다.\n",
        "# 데이터 확장 및 드롭아웃 도입에 의해 범화성능을 개선할 수 있다.\n"
      ],
      "metadata": {
        "id": "YtDmzUwG5rg5"
      },
      "execution_count": null,
      "outputs": []
    }
  ]
}